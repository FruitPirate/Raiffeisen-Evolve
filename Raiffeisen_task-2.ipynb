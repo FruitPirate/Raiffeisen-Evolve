{
 "cells": [
  {
   "cell_type": "code",
   "execution_count": 128,
   "metadata": {},
   "outputs": [
    {
     "name": "stdout",
     "output_type": "stream",
     "text": [
      "Requirement already satisfied: sqlite_object in c:\\programdata\\anaconda3\\lib\\site-packages (0.3)\n",
      "Requirement already satisfied: sqlitedict in c:\\programdata\\anaconda3\\lib\\site-packages (1.6.0)\n"
     ]
    }
   ],
   "source": [
    "!pip install sqlite_object\n",
    "!pip install sqlitedict"
   ]
  },
  {
   "cell_type": "code",
   "execution_count": 131,
   "metadata": {},
   "outputs": [
    {
     "name": "stdout",
     "output_type": "stream",
     "text": [
      "Задание 1 \n",
      "Количество клиентов для каждого из сегментов\n",
      "R : 2\n",
      "AF : 2\n",
      "\n",
      "Задание 2 \n",
      "Средний объем отдельной транзакции в каждом из сегментов.\n",
      "R : 2486.6666666666665\n",
      "AF : 35300.0\n",
      "\n",
      "Задание 3 \n",
      "90% доверительный интервал для среднего объема отдельной транзакции в каждом из сегментов.\n",
      "R : (-42.4147143068285, 5015.74804764016)\n",
      "AF : (-183787.1775635926, 254387.17756359235)\n",
      "\n",
      "Задание 4\n",
      "Т. к. 0.2944172804761428 > 0.1, то гипотеза о равенстве средних объемов отдельных транзакций между сегментами \n",
      "может быть принята при уровне значимости 10%\n"
     ]
    }
   ],
   "source": [
    "import numpy as np\n",
    "import scipy.stats\n",
    "from sqlitedict import SqliteDict\n",
    "from sqlite_object import SqliteList\n",
    "\n",
    "#Список уникальных клиентов\n",
    "unique_clients = SqliteList(filename='./unique_clients',  commit_every=10000)\n",
    "\n",
    "amount_of_ppl_in_sgmnt = SqliteDict('./amount_of_ppl_in_sgmnt', autocommit=True) \n",
    "#количество уникальных клиентов для каждого из сегментов\n",
    "\n",
    "values_in_sgmnt = SqliteDict('./values_in_sgmnt', autocommit=True) \n",
    "#транзакции для каждого сегмента\n",
    "\n",
    "with open(r\"C:\\Users\\anton\\Desktop\\Учеба\\raiffeisen\\transactions.txt\") as file_handler:\n",
    "    for line in file_handler:\n",
    "        line = line.replace(\"\\n\", \"\")\n",
    "        splitted_line = line.split(',')\n",
    "        client = splitted_line[1]\n",
    "        segment = splitted_line[3]\n",
    "        if segment not in amount_of_ppl_in_sgmnt:\n",
    "            amount_of_ppl_in_sgmnt[segment] = 0\n",
    "        if client not in unique_clients:\n",
    "            amount_of_ppl_in_sgmnt[segment] += 1\n",
    "            unique_clients.append(client)\n",
    "            \n",
    "        if segment not in values_in_sgmnt:\n",
    "            values_in_sgmnt[segment] = []\n",
    "        values_in_sgmnt[segment] += [int(splitted_line[2])]\n",
    "\n",
    "print(\"Задание 1 \\nКоличество клиентов для каждого из сегментов\")\n",
    "for key, val in amount_of_ppl_in_sgmnt.items():\n",
    "    print(key, ':', val)\n",
    "print()\n",
    "\n",
    "ans = {}\n",
    "for sgmnt in values_in_sgmnt:\n",
    "    a = 1.0 * np.array(values_in_sgmnt[sgmnt])\n",
    "    n = a.shape[0]\n",
    "    mean = np.mean(a)\n",
    "    stand_err = scipy.stats.sem(a)\n",
    "    interval = scipy.stats.t.interval(0.9, n-1, loc=mean, scale=stand_err)\n",
    "    ans[sgmnt] = (mean, interval)\n",
    "    \n",
    "print(\"Задание 2 \\nСредний объем отдельной транзакции в каждом из сегментов.\")\n",
    "for key, val in ans.items():\n",
    "    print(key, \":\", val[0])\n",
    "print()\n",
    "\n",
    "print(\"Задание 3 \\n90% доверительный интервал для среднего объема отдельной транзакции в каждом из сегментов.\")\n",
    "for key, val in ans.items():\n",
    "    print(key, \":\", val[1])\n",
    "print()\n",
    "\n",
    "print(\"Задание 4\")\n",
    "p_value = scipy.stats.ttest_ind(values_in_sgmnt['R'], values_in_sgmnt['AF'])[1]\n",
    "if p_value > 0.1:\n",
    "    print(\"\"\"Т. к. {} > 0.1, то гипотеза о равенстве средних объемов отдельных транзакций между сегментами \n",
    "может быть принята при уровне значимости 10%\"\"\".format(p_value))\n",
    "else:\n",
    "    print(\"\"\"Т. к. {} < 0.1, то гипотеза о равенстве средних объемов отдельных транзакций между сегментами \n",
    "не может быть принята при уровне значимости 10%\"\"\".format(p_value))\n",
    "\n",
    "    \n",
    "amount_of_ppl_in_sgmnt.clear()\n",
    "values_in_sgmnt.clear()\n",
    "unique_clients.clear()"
   ]
  },
  {
   "cell_type": "code",
   "execution_count": null,
   "metadata": {},
   "outputs": [],
   "source": []
  }
 ],
 "metadata": {
  "kernelspec": {
   "display_name": "Python 3",
   "language": "python",
   "name": "python3"
  },
  "language_info": {
   "codemirror_mode": {
    "name": "ipython",
    "version": 3
   },
   "file_extension": ".py",
   "mimetype": "text/x-python",
   "name": "python",
   "nbconvert_exporter": "python",
   "pygments_lexer": "ipython3",
   "version": "3.6.8"
  }
 },
 "nbformat": 4,
 "nbformat_minor": 2
}
